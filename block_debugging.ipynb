{
 "cells": [
  {
   "cell_type": "code",
   "execution_count": 1,
   "metadata": {},
   "outputs": [],
   "source": [
    "import logging\n",
    "from pyautomagic.src import Block, Project, Subject\n",
    "logger = logging.getLogger(__name__)\n",
    "logger.setLevel(level=10)\n",
    "logging.basicConfig(filename='./tests/test_data/project_test/derivatives/automagic/project_log.log', format='%(asctime)s %(levelname)s:%(message)s', datefmt='%m/%d/%Y %I:%M:%S %p')"
   ]
  },
  {
   "cell_type": "code",
   "execution_count": 2,
   "metadata": {},
   "outputs": [],
   "source": [
    "root_path = './tests/test_data/project_test'\n",
    "config = {'version':1.0}\n",
    "params = {'interpolation_params':{}}\n",
    "sampling_rate = 1028\n",
    "visualization_params = {'downsample_rate' : 5}\n",
    "quality_thresholds = {'overall_thresh': 50, 'time_thresh': 25,\n",
    "                'chan_thresh': 25, 'apply_common_avg': True}\n",
    "rate_cutoffs = {'overall_Good_Cutoff': 0.1, 'overall_Bad_Cutoff': 0.2,\n",
    "                'time_Good_Cutoff': 0.1, 'time_Bad_Cutoff': 0.2,\n",
    "                'bad_Channel_Good_Cutoff': 0.15, 'bad_Channel_Bad_Cutoff': 0.3,\n",
    "                'channel_Good_Cutoff': 0.15, 'channel_Bad_Cutoff': 0.3}\n",
    "montage = 'standard_1005'\n",
    "sub_name = 'CZ'"
   ]
  },
  {
   "cell_type": "code",
   "execution_count": 3,
   "metadata": {},
   "outputs": [],
   "source": [
    "dummy_project = Project.Project(root_path,config,params,sampling_rate,\n",
    "                        visualization_params,quality_thresholds,rate_cutoffs,montage)\n",
    "dummy_subject = Subject.Subject(sub_name)\n",
    "data_filename = 'sub-CZ_ses-01_task-rest_eeg.edf'\n",
    "test_block = Block.Block(root_path,data_filename,dummy_project,dummy_subject)"
   ]
  },
  {
   "cell_type": "code",
   "execution_count": 4,
   "metadata": {},
   "outputs": [
    {
     "name": "stdout",
     "output_type": "stream",
     "text": [
      "Extracting EDF parameters from /Users/clairezurn/pyautomagic/tests/test_data/project_test/sub-CZ/ses-01/eeg/sub-CZ_ses-01_task-rest_eeg.edf...\n",
      "EDF file detected\n",
      "Setting channel info structure...\n",
      "Creating raw.info structure...\n",
      "Reading 0 ... 47199  =      0.000 ...   235.995 secs...\n",
      "['EEG Fp1-Ref', 'EEG Fp2-Ref', 'EEG F3-Ref', 'EEG F4-Ref', 'EEG C3-Ref', 'EEG C4-Ref', 'EEG P3-Ref', 'EEG P4-Ref', 'EEG O1-Ref', 'EEG O2-Ref', 'EEG F7-Ref', 'EEG F8-Ref', 'EEG T7-Ref', 'EEG T8-Ref', 'EEG P7-Ref', 'EEG P8-Ref', 'EEG Fz-Ref', 'EEG Cz-Ref', 'EEG Pz-Ref', 'POL E', 'POL PG1', 'POL PG2', 'EEG A1-Ref', 'EEG A2-Ref', 'POL T1', 'POL T2', 'POL ECG1', 'POL ECG2', 'EEG F9-Ref', 'EEG T9-Ref', 'EEG P9-Ref', 'EEG F10-Ref', 'EEG T10-Ref', 'EEG P10-Ref', 'POL X9', 'POL X10', 'POL DC01', 'POL DC02', 'POL DC03', 'POL DC04', 'POL $A1', 'POL $A2']\n",
      "{'auto_bad_chans': ['EEG F3-Ref', 'EEG C3-Ref'], 'prep': {'performed': True}, 'filtering': {'performed': True}}\n",
      "0.2\n",
      "\n",
      "Writing './tests/test_data/project_test/derivatives/automagic/sub-CZ/ses-01/sub-CZ_ses-01_task-rest_eeg_results.json'...\n",
      "\n",
      "{\n",
      "    \"auto_bad_chans\": [\n",
      "        \"EEG F3-Ref\",\n",
      "        \"EEG C3-Ref\"\n",
      "    ],\n",
      "    \"prep\": {\n",
      "        \"performed\": true\n",
      "    },\n",
      "    \"filtering\": {\n",
      "        \"performed\": true\n",
      "    },\n",
      "    \"to_be_interpolated\": [\n",
      "        \"EEG F3-Ref\",\n",
      "        \"EEG C3-Ref\"\n",
      "    ],\n",
      "    \"final_bad_chans\": [],\n",
      "    \"montage\": \"standard_1005\",\n",
      "    \"version\": 1.0,\n",
      "    \"quality_scores\": {\n",
      "        \"overall_high_amp\": 0.0,\n",
      "        \"times_high_var\": 0.0,\n",
      "        \"ratio_bad_chans\": 0.047619047619047616,\n",
      "        \"chan_high_var\": 0.0,\n",
      "        \"mean_abs_volt\": 0.5421892598210915\n",
      "    },\n",
      "    \"quality_thresholds\": {\n",
      "        \"overall_thresh\": 50,\n",
      "        \"time_thresh\": 25,\n",
      "        \"chan_thresh\": 25,\n",
      "        \"apply_common_avg\": true\n",
      "    },\n",
      "    \"rate\": \"interpolate\",\n",
      "    \"is_manually_rated\": false,\n",
      "    \"times_commited\": 0,\n",
      "    \"params\": {\n",
      "        \"interpolation_params\": {}\n",
      "    },\n",
      "    \"is_interpolated\": false,\n",
      "    \"is_rated\": false\n",
      "}\n",
      "Writing /Users/clairezurn/pyautomagic/tests/test_data/project_test/derivatives/automagic/sub-CZ/ses-01/sub-CZ_ses-01_task-rest_eeg_raw.fif\n",
      "Closing /Users/clairezurn/pyautomagic/tests/test_data/project_test/derivatives/automagic/sub-CZ/ses-01/sub-CZ_ses-01_task-rest_eeg_raw.fif [done]\n"
     ]
    },
    {
     "name": "stderr",
     "output_type": "stream",
     "text": [
      "//anaconda3/lib/python3.7/site-packages/mne_bids/utils.py:556: UserWarning: Did not find any events.tsv file associated with sub-CZ_ses-01_task-rest_eeg.edf.\n",
      "\n",
      "The search_str was \"./tests/test_data/project_test/**/sub-CZ_ses-01*events.tsv\"\n",
      "  warnings.warn(msg)\n",
      "//anaconda3/lib/python3.7/site-packages/mne_bids/utils.py:556: UserWarning: Did not find any channels.tsv file associated with sub-CZ_ses-01_task-rest_eeg.edf.\n",
      "\n",
      "The search_str was \"./tests/test_data/project_test/**/sub-CZ_ses-01*channels.tsv\"\n",
      "  warnings.warn(msg)\n"
     ]
    },
    {
     "name": "stdout",
     "output_type": "stream",
     "text": [
      "{'preprocessed': <RawEDF  |  sub-CZ_ses-01_task-rest_eeg.edf, n_channels x n_times : 42 x 47200 (236.0 sec), ~15.2 MB, data loaded>, 'automagic': {'auto_bad_chans': ['EEG F3-Ref', 'EEG C3-Ref'], 'prep': {'performed': True}, 'filtering': {'performed': True}, 'to_be_interpolated': ['EEG F3-Ref', 'EEG C3-Ref'], 'final_bad_chans': [], 'montage': 'standard_1005', 'version': 1.0, 'quality_scores': {'overall_high_amp': 0.0, 'times_high_var': 0.0, 'ratio_bad_chans': 0.047619047619047616, 'chan_high_var': 0.0, 'mean_abs_volt': 0.5421892598210915}, 'quality_thresholds': {'overall_thresh': 50, 'time_thresh': 25, 'chan_thresh': 25, 'apply_common_avg': True}, 'rate': 'interpolate', 'is_manually_rated': False, 'times_commited': 0, 'params': {'interpolation_params': {}}, 'is_interpolated': False, 'is_rated': False}}\n"
     ]
    },
    {
     "data": {
      "text/plain": [
       "<Figure size 720x360 with 0 Axes>"
      ]
     },
     "metadata": {},
     "output_type": "display_data"
    },
    {
     "data": {
      "text/plain": [
       "<Figure size 720x360 with 0 Axes>"
      ]
     },
     "metadata": {},
     "output_type": "display_data"
    }
   ],
   "source": [
    "results = test_block.preprocess()\n",
    "print(results)"
   ]
  },
  {
   "cell_type": "code",
   "execution_count": 5,
   "metadata": {},
   "outputs": [
    {
     "name": "stdout",
     "output_type": "stream",
     "text": [
      "Opening raw data file ./tests/test_data/project_test/derivatives/automagic/sub-CZ/ses-01/sub-CZ_ses-01_task-rest_eeg_raw.fif...\n",
      "Isotrak not found\n",
      "    Range : 0 ... 47199 =      0.000 ...   235.995 secs\n",
      "Ready.\n",
      "Reading 0 ... 47199  =      0.000 ...   235.995 secs...\n"
     ]
    },
    {
     "ename": "ValueError",
     "evalue": "Could not extract channel positions for 42 channels",
     "output_type": "error",
     "traceback": [
      "\u001b[0;31m---------------------------------------------------------------------------\u001b[0m",
      "\u001b[0;31mValueError\u001b[0m                                Traceback (most recent call last)",
      "\u001b[0;32m<ipython-input-5-4a33d90c7a5b>\u001b[0m in \u001b[0;36m<module>\u001b[0;34m\u001b[0m\n\u001b[0;32m----> 1\u001b[0;31m \u001b[0minterpolated\u001b[0m \u001b[0;34m=\u001b[0m \u001b[0mtest_block\u001b[0m\u001b[0;34m.\u001b[0m\u001b[0minterpolate\u001b[0m\u001b[0;34m(\u001b[0m\u001b[0;34m)\u001b[0m\u001b[0;34m\u001b[0m\u001b[0;34m\u001b[0m\u001b[0m\n\u001b[0m",
      "\u001b[0;32m~/pyautomagic/pyautomagic/src/Block.py\u001b[0m in \u001b[0;36minterpolate\u001b[0;34m(self)\u001b[0m\n\u001b[1;32m    370\u001b[0m         \u001b[0meeg\u001b[0m\u001b[0;34m.\u001b[0m\u001b[0mload_data\u001b[0m\u001b[0;34m(\u001b[0m\u001b[0;34m)\u001b[0m\u001b[0;34m\u001b[0m\u001b[0;34m\u001b[0m\u001b[0m\n\u001b[1;32m    371\u001b[0m         \u001b[0meeg\u001b[0m\u001b[0;34m.\u001b[0m\u001b[0minfo\u001b[0m\u001b[0;34m[\u001b[0m\u001b[0;34m'dig'\u001b[0m\u001b[0;34m]\u001b[0m \u001b[0;34m=\u001b[0m \u001b[0mmne\u001b[0m\u001b[0;34m.\u001b[0m\u001b[0mchannels\u001b[0m\u001b[0;34m.\u001b[0m\u001b[0mmake_standard_montage\u001b[0m\u001b[0;34m(\u001b[0m\u001b[0mself\u001b[0m\u001b[0;34m.\u001b[0m\u001b[0mmontage\u001b[0m\u001b[0;34m)\u001b[0m\u001b[0;34m\u001b[0m\u001b[0;34m\u001b[0m\u001b[0m\n\u001b[0;32m--> 372\u001b[0;31m         \u001b[0minterpolated\u001b[0m \u001b[0;34m=\u001b[0m \u001b[0meeg\u001b[0m\u001b[0;34m.\u001b[0m\u001b[0minterpolate_bads\u001b[0m\u001b[0;34m(\u001b[0m\u001b[0;34m)\u001b[0m\u001b[0;31m#(origin=interpolation_params['origin'])\u001b[0m\u001b[0;34m\u001b[0m\u001b[0;34m\u001b[0m\u001b[0m\n\u001b[0m\u001b[1;32m    373\u001b[0m \u001b[0;34m\u001b[0m\u001b[0m\n\u001b[1;32m    374\u001b[0m         \u001b[0moverall_thresh\u001b[0m \u001b[0;34m=\u001b[0m \u001b[0mself\u001b[0m\u001b[0;34m.\u001b[0m\u001b[0mproject\u001b[0m\u001b[0;34m.\u001b[0m\u001b[0mquality_thresholds\u001b[0m\u001b[0;34m[\u001b[0m\u001b[0;34m'overall_thresh'\u001b[0m\u001b[0;34m]\u001b[0m\u001b[0;34m\u001b[0m\u001b[0;34m\u001b[0m\u001b[0m\n",
      "\u001b[0;32m<//anaconda3/lib/python3.7/site-packages/mne/externals/decorator.py:decorator-gen-32>\u001b[0m in \u001b[0;36minterpolate_bads\u001b[0;34m(self, reset_bads, mode, origin, verbose)\u001b[0m\n",
      "\u001b[0;32m//anaconda3/lib/python3.7/site-packages/mne/utils/_logging.py\u001b[0m in \u001b[0;36mwrapper\u001b[0;34m(*args, **kwargs)\u001b[0m\n\u001b[1;32m     88\u001b[0m             \u001b[0;32mwith\u001b[0m \u001b[0muse_log_level\u001b[0m\u001b[0;34m(\u001b[0m\u001b[0mverbose_level\u001b[0m\u001b[0;34m)\u001b[0m\u001b[0;34m:\u001b[0m\u001b[0;34m\u001b[0m\u001b[0;34m\u001b[0m\u001b[0m\n\u001b[1;32m     89\u001b[0m                 \u001b[0;32mreturn\u001b[0m \u001b[0mfunction\u001b[0m\u001b[0;34m(\u001b[0m\u001b[0;34m*\u001b[0m\u001b[0margs\u001b[0m\u001b[0;34m,\u001b[0m \u001b[0;34m**\u001b[0m\u001b[0mkwargs\u001b[0m\u001b[0;34m)\u001b[0m\u001b[0;34m\u001b[0m\u001b[0;34m\u001b[0m\u001b[0m\n\u001b[0;32m---> 90\u001b[0;31m         \u001b[0;32mreturn\u001b[0m \u001b[0mfunction\u001b[0m\u001b[0;34m(\u001b[0m\u001b[0;34m*\u001b[0m\u001b[0margs\u001b[0m\u001b[0;34m,\u001b[0m \u001b[0;34m**\u001b[0m\u001b[0mkwargs\u001b[0m\u001b[0;34m)\u001b[0m\u001b[0;34m\u001b[0m\u001b[0;34m\u001b[0m\u001b[0m\n\u001b[0m\u001b[1;32m     91\u001b[0m     return FunctionMaker.create(\n\u001b[1;32m     92\u001b[0m         \u001b[0mfunction\u001b[0m\u001b[0;34m,\u001b[0m \u001b[0;34m'return decfunc(%(signature)s)'\u001b[0m\u001b[0;34m,\u001b[0m\u001b[0;34m\u001b[0m\u001b[0;34m\u001b[0m\u001b[0m\n",
      "\u001b[0;32m//anaconda3/lib/python3.7/site-packages/mne/channels/channels.py\u001b[0m in \u001b[0;36minterpolate_bads\u001b[0;34m(self, reset_bads, mode, origin, verbose)\u001b[0m\n\u001b[1;32m    962\u001b[0m             \u001b[0;32mreturn\u001b[0m \u001b[0mself\u001b[0m\u001b[0;34m\u001b[0m\u001b[0;34m\u001b[0m\u001b[0m\n\u001b[1;32m    963\u001b[0m \u001b[0;34m\u001b[0m\u001b[0m\n\u001b[0;32m--> 964\u001b[0;31m         \u001b[0m_interpolate_bads_eeg\u001b[0m\u001b[0;34m(\u001b[0m\u001b[0mself\u001b[0m\u001b[0;34m)\u001b[0m\u001b[0;34m\u001b[0m\u001b[0;34m\u001b[0m\u001b[0m\n\u001b[0m\u001b[1;32m    965\u001b[0m         \u001b[0m_interpolate_bads_meg\u001b[0m\u001b[0;34m(\u001b[0m\u001b[0mself\u001b[0m\u001b[0;34m,\u001b[0m \u001b[0mmode\u001b[0m\u001b[0;34m=\u001b[0m\u001b[0mmode\u001b[0m\u001b[0;34m,\u001b[0m \u001b[0morigin\u001b[0m\u001b[0;34m=\u001b[0m\u001b[0morigin\u001b[0m\u001b[0;34m)\u001b[0m\u001b[0;34m\u001b[0m\u001b[0;34m\u001b[0m\u001b[0m\n\u001b[1;32m    966\u001b[0m \u001b[0;34m\u001b[0m\u001b[0m\n",
      "\u001b[0;32m<//anaconda3/lib/python3.7/site-packages/mne/externals/decorator.py:decorator-gen-427>\u001b[0m in \u001b[0;36m_interpolate_bads_eeg\u001b[0;34m(inst, verbose)\u001b[0m\n",
      "\u001b[0;32m//anaconda3/lib/python3.7/site-packages/mne/utils/_logging.py\u001b[0m in \u001b[0;36mwrapper\u001b[0;34m(*args, **kwargs)\u001b[0m\n\u001b[1;32m     88\u001b[0m             \u001b[0;32mwith\u001b[0m \u001b[0muse_log_level\u001b[0m\u001b[0;34m(\u001b[0m\u001b[0mverbose_level\u001b[0m\u001b[0;34m)\u001b[0m\u001b[0;34m:\u001b[0m\u001b[0;34m\u001b[0m\u001b[0;34m\u001b[0m\u001b[0m\n\u001b[1;32m     89\u001b[0m                 \u001b[0;32mreturn\u001b[0m \u001b[0mfunction\u001b[0m\u001b[0;34m(\u001b[0m\u001b[0;34m*\u001b[0m\u001b[0margs\u001b[0m\u001b[0;34m,\u001b[0m \u001b[0;34m**\u001b[0m\u001b[0mkwargs\u001b[0m\u001b[0;34m)\u001b[0m\u001b[0;34m\u001b[0m\u001b[0;34m\u001b[0m\u001b[0m\n\u001b[0;32m---> 90\u001b[0;31m         \u001b[0;32mreturn\u001b[0m \u001b[0mfunction\u001b[0m\u001b[0;34m(\u001b[0m\u001b[0;34m*\u001b[0m\u001b[0margs\u001b[0m\u001b[0;34m,\u001b[0m \u001b[0;34m**\u001b[0m\u001b[0mkwargs\u001b[0m\u001b[0;34m)\u001b[0m\u001b[0;34m\u001b[0m\u001b[0;34m\u001b[0m\u001b[0m\n\u001b[0m\u001b[1;32m     91\u001b[0m     return FunctionMaker.create(\n\u001b[1;32m     92\u001b[0m         \u001b[0mfunction\u001b[0m\u001b[0;34m,\u001b[0m \u001b[0;34m'return decfunc(%(signature)s)'\u001b[0m\u001b[0;34m,\u001b[0m\u001b[0;34m\u001b[0m\u001b[0;34m\u001b[0m\u001b[0m\n",
      "\u001b[0;32m//anaconda3/lib/python3.7/site-packages/mne/channels/interpolation.py\u001b[0m in \u001b[0;36m_interpolate_bads_eeg\u001b[0;34m(inst, verbose)\u001b[0m\n\u001b[1;32m    130\u001b[0m     \u001b[0mgoods_idx\u001b[0m\u001b[0;34m[\u001b[0m\u001b[0mbads_idx\u001b[0m\u001b[0;34m]\u001b[0m \u001b[0;34m=\u001b[0m \u001b[0;32mFalse\u001b[0m\u001b[0;34m\u001b[0m\u001b[0;34m\u001b[0m\u001b[0m\n\u001b[1;32m    131\u001b[0m \u001b[0;34m\u001b[0m\u001b[0m\n\u001b[0;32m--> 132\u001b[0;31m     \u001b[0mpos\u001b[0m \u001b[0;34m=\u001b[0m \u001b[0minst\u001b[0m\u001b[0;34m.\u001b[0m\u001b[0m_get_channel_positions\u001b[0m\u001b[0;34m(\u001b[0m\u001b[0mpicks\u001b[0m\u001b[0;34m)\u001b[0m\u001b[0;34m\u001b[0m\u001b[0;34m\u001b[0m\u001b[0m\n\u001b[0m\u001b[1;32m    133\u001b[0m \u001b[0;34m\u001b[0m\u001b[0m\n\u001b[1;32m    134\u001b[0m     \u001b[0;31m# Make sure only EEG are used\u001b[0m\u001b[0;34m\u001b[0m\u001b[0;34m\u001b[0m\u001b[0;34m\u001b[0m\u001b[0m\n",
      "\u001b[0;32m//anaconda3/lib/python3.7/site-packages/mne/channels/channels.py\u001b[0m in \u001b[0;36m_get_channel_positions\u001b[0;34m(self, picks)\u001b[0m\n\u001b[1;32m    337\u001b[0m         \u001b[0;32mif\u001b[0m \u001b[0mn_zero\u001b[0m \u001b[0;34m>\u001b[0m \u001b[0;36m1\u001b[0m\u001b[0;34m:\u001b[0m  \u001b[0;31m# XXX some systems have origin (0, 0, 0)\u001b[0m\u001b[0;34m\u001b[0m\u001b[0;34m\u001b[0m\u001b[0m\n\u001b[1;32m    338\u001b[0m             raise ValueError('Could not extract channel positions for '\n\u001b[0;32m--> 339\u001b[0;31m                              '{} channels'.format(n_zero))\n\u001b[0m\u001b[1;32m    340\u001b[0m         \u001b[0;32mreturn\u001b[0m \u001b[0mpos\u001b[0m\u001b[0;34m\u001b[0m\u001b[0;34m\u001b[0m\u001b[0m\n\u001b[1;32m    341\u001b[0m \u001b[0;34m\u001b[0m\u001b[0m\n",
      "\u001b[0;31mValueError\u001b[0m: Could not extract channel positions for 42 channels"
     ]
    }
   ],
   "source": [
    "interpolated = test_block.interpolate()"
   ]
  },
  {
   "cell_type": "code",
   "execution_count": null,
   "metadata": {},
   "outputs": [],
   "source": []
  }
 ],
 "metadata": {
  "kernelspec": {
   "display_name": "Python 3",
   "language": "python",
   "name": "python3"
  },
  "language_info": {
   "codemirror_mode": {
    "name": "ipython",
    "version": 3
   },
   "file_extension": ".py",
   "mimetype": "text/x-python",
   "name": "python",
   "nbconvert_exporter": "python",
   "pygments_lexer": "ipython3",
   "version": "3.7.3"
  }
 },
 "nbformat": 4,
 "nbformat_minor": 2
}
