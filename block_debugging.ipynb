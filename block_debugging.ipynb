{
 "cells": [
  {
   "cell_type": "code",
   "execution_count": 4,
   "metadata": {},
   "outputs": [],
   "source": [
    "from pyautomagic.src import Block, Project, Subject"
   ]
  },
  {
   "cell_type": "code",
   "execution_count": 5,
   "metadata": {},
   "outputs": [],
   "source": [
    "root_path = './tests/test_data/project_test'\n",
    "config = {'version':1.0}\n",
    "params = {'interpolation_params':{}}\n",
    "sampling_rate = 1028\n",
    "visualization_params = {'downsample_rate' : 5}\n",
    "quality_thresholds = {'overall_thresh': 50, 'time_thresh': 25,\n",
    "                'chan_thresh': 25, 'apply_common_avg': True}\n",
    "rate_cutoffs = {'overall_Good_Cutoff': 0.1, 'overall_Bad_Cutoff': 0.2,\n",
    "                'time_Good_Cutoff': 0.1, 'time_Bad_Cutoff': 0.2,\n",
    "                'bad_Channel_Good_Cutoff': 0.15, 'bad_Channel_Bad_Cutoff': 0.3,\n",
    "                'channel_Good_Cutoff': 0.15, 'channel_Bad_Cutoff': 0.3}\n",
    "sub_name = 'CZ'"
   ]
  },
  {
   "cell_type": "code",
   "execution_count": 6,
   "metadata": {},
   "outputs": [],
   "source": [
    "dummy_project = Project.Project(root_path,config,params,sampling_rate,\n",
    "                        visualization_params,quality_thresholds,rate_cutoffs)\n",
    "dummy_subject = Subject.Subject(sub_name)\n",
    "data_filename = 'sub-CZ_ses-01_task-rest_eeg.edf'\n",
    "test_block = Block.Block(root_path,data_filename,dummy_project,dummy_subject)"
   ]
  },
  {
   "cell_type": "code",
   "execution_count": 7,
   "metadata": {},
   "outputs": [
    {
     "name": "stdout",
     "output_type": "stream",
     "text": [
      "Extracting EDF parameters from /Users/clairezurn/pyautomagic/tests/test_data/project_test/sub-CZ/ses-01/sub-CZ_ses-01_task-rest_eeg.edf...\n",
      "EDF file detected\n",
      "Setting channel info structure...\n",
      "Creating raw.info structure...\n",
      "Reading 0 ... 47199  =      0.000 ...   235.995 secs...\n"
     ]
    },
    {
     "name": "stderr",
     "output_type": "stream",
     "text": [
      "Some value of Quality Metrics is not a number, please verify your EEG input data\n"
     ]
    },
    {
     "name": "stdout",
     "output_type": "stream",
     "text": [
      "0.2\n",
      "\n",
      "Writing './tests/test_data/project_test/derivatives/automagic/sub-CZ/ses-01/sub-CZ_ses-01_task-rest_eeg_results.json'...\n",
      "\n",
      "{\n",
      "    \"auto_bad_chans\": [\n",
      "        2,\n",
      "        3\n",
      "    ],\n",
      "    \"to_be_interpolated\": [\n",
      "        2,\n",
      "        3\n",
      "    ],\n",
      "    \"final_bad_chans\": [],\n",
      "    \"version\": 1.0,\n",
      "    \"quality_scores\": {\n",
      "        \"overall_high_amp\": 0.0,\n",
      "        \"times_high_var\": 0.0,\n",
      "        \"ratio_bad_chans\": 0.0,\n",
      "        \"chan_high_var\": 0.0,\n",
      "        \"mean_abs_volt\": 0.5421892598210915\n",
      "    },\n",
      "    \"quality_thresholds\": {\n",
      "        \"overall_thresh\": 50,\n",
      "        \"time_thresh\": 25,\n",
      "        \"chan_thresh\": 25,\n",
      "        \"apply_common_avg\": true\n",
      "    },\n",
      "    \"rate\": \"interpolate\",\n",
      "    \"is_manually_rated\": false,\n",
      "    \"times_commited\": 0,\n",
      "    \"params\": {\n",
      "        \"interpolation_params\": {}\n",
      "    },\n",
      "    \"is_interpolated\": false,\n",
      "    \"is_rated\": false\n",
      "}\n",
      "Overwriting existing file.\n",
      "Writing /Users/clairezurn/pyautomagic/tests/test_data/project_test/derivatives/automagic/sub-CZ/ses-01/sub-CZ_ses-01_task-rest_eeg_raw.fif\n",
      "Closing /Users/clairezurn/pyautomagic/tests/test_data/project_test/derivatives/automagic/sub-CZ/ses-01/sub-CZ_ses-01_task-rest_eeg_raw.fif [done]\n",
      "{'preprocessed': <RawEDF  |  sub-CZ_ses-01_task-rest_eeg.edf, n_channels x n_times : 42 x 47200 (236.0 sec), ~15.2 MB, data loaded>, 'automagic': {'auto_bad_chans': [2, 3], 'to_be_interpolated': [2, 3], 'final_bad_chans': [], 'version': 1.0, 'quality_scores': {'overall_high_amp': 0.0, 'times_high_var': 0.0, 'ratio_bad_chans': 0.0, 'chan_high_var': 0.0, 'mean_abs_volt': 0.5421892598210915}, 'quality_thresholds': {'overall_thresh': 50, 'time_thresh': 25, 'chan_thresh': 25, 'apply_common_avg': True}, 'rate': 'interpolate', 'is_manually_rated': False, 'times_commited': 0, 'params': {'interpolation_params': {}}, 'is_interpolated': False, 'is_rated': False}}\n"
     ]
    },
    {
     "data": {
      "text/plain": [
       "<Figure size 720x360 with 0 Axes>"
      ]
     },
     "metadata": {},
     "output_type": "display_data"
    },
    {
     "data": {
      "text/plain": [
       "<Figure size 720x360 with 0 Axes>"
      ]
     },
     "metadata": {},
     "output_type": "display_data"
    }
   ],
   "source": [
    "results = test_block.preprocess()\n",
    "print(results)"
   ]
  },
  {
   "cell_type": "code",
   "execution_count": null,
   "metadata": {},
   "outputs": [],
   "source": []
  }
 ],
 "metadata": {
  "kernelspec": {
   "display_name": "Python 3",
   "language": "python",
   "name": "python3"
  },
  "language_info": {
   "codemirror_mode": {
    "name": "ipython",
    "version": 3
   },
   "file_extension": ".py",
   "mimetype": "text/x-python",
   "name": "python",
   "nbconvert_exporter": "python",
   "pygments_lexer": "ipython3",
   "version": "3.7.3"
  }
 },
 "nbformat": 4,
 "nbformat_minor": 2
}
