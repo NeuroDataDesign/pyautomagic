{
 "cells": [
  {
   "cell_type": "markdown",
   "metadata": {},
   "source": [
    "## Using Block class in pyAutomagic\n",
    "This class is the the where operations at the single dataset level occur. The key steps are:\n",
    "* Setting parameters\n",
    "* Initialization\n",
    "* Preprocess\n",
    "* Interpolate\n",
    "\n",
    "Setting up the parameters correctly is key to ensuring the program runs as you would like. Set the logger filename to where the overall project's log should be stored."
   ]
  },
  {
   "cell_type": "code",
   "execution_count": 1,
   "metadata": {},
   "outputs": [],
   "source": [
    "import logging\n",
    "from pyautomagic.src import Block, Project, Subject\n",
    "logger = logging.getLogger(__name__)\n",
    "logger.setLevel(level=10)\n",
    "logging.basicConfig(filename='./tests/test_data/test_project/derivatives/automagic/project_log.log', format='%(asctime)s %(levelname)s:%(message)s', datefmt='%m/%d/%Y %I:%M:%S %p')"
   ]
  },
  {
   "cell_type": "markdown",
   "metadata": {},
   "source": [
    "###### Setting parameters and Initialization\n",
    "The overall package is restricted to using the BIDS specification. Set the root path as the BIDS folder. Quality thresholds should be set keeping in mind the units of your data. The default is for microvolts. See documentation on calculating quality metrics for more information on setting thresholds. The same can be said for rating cutoffs. Set the montage string as one that MNE will recognize as the EEG montage you are using. Input the subject identifier as a string. The data filename needs the extension, but not the overall path to it. The path is evident from the BIDS specification. Project, subject, and block objects are then initiated. Even for one dataset, the overarching project and subject objects are necessary."
   ]
  },
  {
   "cell_type": "code",
   "execution_count": 2,
   "metadata": {},
   "outputs": [],
   "source": [
    "root_path = './tests/test_data/test_project'\n",
    "config = {'version':1.0}\n",
    "params = {'interpolation_params':{}}\n",
    "sampling_rate = 500\n",
    "visualization_params = {'downsample_rate' : 5}\n",
    "quality_thresholds = {'overall_thresh': 50, 'time_thresh': 25,\n",
    "                'chan_thresh': 25, 'apply_common_avg': True}\n",
    "rate_cutoffs = {'overall_Good_Cutoff': 0.1, 'overall_Bad_Cutoff': 0.2,\n",
    "                'time_Good_Cutoff': 0.1, 'time_Bad_Cutoff': 0.2,\n",
    "                'bad_Channel_Good_Cutoff': 0.15, 'bad_Channel_Bad_Cutoff': 0.3,\n",
    "                'channel_Good_Cutoff': 0.15, 'channel_Bad_Cutoff': 0.3}\n",
    "montage = 'biosemi128'\n",
    "sub_name = '18'\n",
    "data_filename = 'sub-18_task-rest_eeg.set'"
   ]
  },
  {
   "cell_type": "code",
   "execution_count": 3,
   "metadata": {},
   "outputs": [],
   "source": [
    "dummy_project = Project.Project(root_path,config,params,sampling_rate,\n",
    "                        visualization_params,quality_thresholds,rate_cutoffs,montage)\n",
    "dummy_subject = Subject.Subject(sub_name)\n",
    "test_block = Block.Block(root_path,data_filename,dummy_project,dummy_subject)"
   ]
  },
  {
   "cell_type": "markdown",
   "metadata": {},
   "source": [
    "### Preprocess and Interpolate\n",
    "All that is left to do is call the preprocess and interpolation on the Block. After preprocessing, there will be a logger file saved where you designated. Additionally, four files are stored to the folder within derivatives/automagic corresponding to the original data. These files are two figures, the preprocessed data, and a results info json. \n",
    "\n",
    "The interpolate method uses MNE's interpolate_bads function. After interpolation, the same files are available, but the preprocessed data file and results json are updated."
   ]
  },
  {
   "cell_type": "code",
   "execution_count": 4,
   "metadata": {},
   "outputs": [
    {
     "name": "stdout",
     "output_type": "stream",
     "text": [
      "Reading channel info from ./tests/test_data/test_project/sub-18/eeg/sub-18_task-rest_channels.tsv.\n",
      "['E1', 'E2', 'E3', 'E4', 'E5', 'E6', 'E7', 'E8', 'E9', 'E10', 'E11', 'E12', 'E13', 'E14', 'E15', 'E16', 'E17', 'E18', 'E19', 'E20', 'E21', 'E22', 'E23', 'E24', 'E25', 'E26', 'E27', 'E28', 'E29', 'E30', 'E31', 'E32', 'E33', 'E34', 'E35', 'E36', 'E37', 'E38', 'E39', 'E40', 'E41', 'E42', 'E43', 'E44', 'E45', 'E46', 'E47', 'E48', 'E49', 'E50', 'E51', 'E52', 'E53', 'E54', 'E55', 'E56', 'E57', 'E58', 'E59', 'E60', 'E61', 'E62', 'E63', 'E64', 'E65', 'E66', 'E67', 'E68', 'E69', 'E70', 'E71', 'E72', 'E73', 'E74', 'E75', 'E76', 'E77', 'E78', 'E79', 'E80', 'E81', 'E82', 'E83', 'E84', 'E85', 'E86', 'E87', 'E88', 'E89', 'E90', 'E91', 'E92', 'E93', 'E94', 'E95', 'E96', 'E97', 'E98', 'E99', 'E100', 'E101', 'E102', 'E103', 'E104', 'E105', 'E106', 'E107', 'E108', 'E109', 'E110', 'E111', 'E112', 'E113', 'E114', 'E115', 'E116', 'E117', 'E118', 'E119', 'E120', 'E121', 'E122', 'E123', 'E124', 'E125', 'E126', 'E127', 'E128']\n",
      "{'auto_bad_chans': ['E3', 'E5'], 'prep': {'performed': True}, 'filtering': {'performed': True}}\n",
      "0.2\n",
      "\n",
      "Writing './tests/test_data/test_project/derivatives/automagic/sub-18/sub-18_task-rest_eeg_results.json'...\n",
      "\n",
      "{\n",
      "    \"auto_bad_chans\": [\n",
      "        \"E3\",\n",
      "        \"E5\"\n",
      "    ],\n",
      "    \"prep\": {\n",
      "        \"performed\": true\n",
      "    },\n",
      "    \"filtering\": {\n",
      "        \"performed\": true\n",
      "    },\n",
      "    \"to_be_interpolated\": [\n",
      "        \"E3\",\n",
      "        \"E5\"\n",
      "    ],\n",
      "    \"final_bad_chans\": [],\n",
      "    \"montage\": \"biosemi128\",\n",
      "    \"version\": 1.0,\n",
      "    \"quality_scores\": {\n",
      "        \"overall_high_amp\": 0.0,\n",
      "        \"times_high_var\": 0.0,\n",
      "        \"ratio_bad_chans\": 0.015625,\n",
      "        \"chan_high_var\": 0.0,\n",
      "        \"mean_abs_volt\": 4.808533167421935e-06\n",
      "    },\n",
      "    \"quality_thresholds\": {\n",
      "        \"overall_thresh\": 50,\n",
      "        \"time_thresh\": 25,\n",
      "        \"chan_thresh\": 25,\n",
      "        \"apply_common_avg\": true\n",
      "    },\n",
      "    \"rate\": \"interpolate\",\n",
      "    \"is_manually_rated\": false,\n",
      "    \"times_commited\": 0,\n",
      "    \"params\": {\n",
      "        \"interpolation_params\": {}\n",
      "    },\n",
      "    \"is_interpolated\": false,\n",
      "    \"is_rated\": false\n",
      "}\n",
      "Writing /Users/clairezurn/pyautomagic/tests/test_data/test_project/derivatives/automagic/sub-18/sub-18_task-rest_eeg_raw.fif\n",
      "Closing /Users/clairezurn/pyautomagic/tests/test_data/test_project/derivatives/automagic/sub-18/sub-18_task-rest_eeg_raw.fif [done]\n"
     ]
    },
    {
     "name": "stderr",
     "output_type": "stream",
     "text": [
      "/Users/clairezurn/pyautomagic/pyautomagic/src/Block.py:211: RuntimeWarning: Data will be preloaded. preload=False or a string preload is not supported when the data is stored in the .set file\n",
      "  data = read_raw_bids(bids_fname,self.root_path)\n",
      "//anaconda3/lib/python3.7/site-packages/mne_bids/utils.py:556: UserWarning: Did not find any events.tsv file associated with sub-18_task-rest_eeg.set.\n",
      "\n",
      "The search_str was \"./tests/test_data/test_project/**/sub-18*events.tsv\"\n",
      "  warnings.warn(msg)\n"
     ]
    },
    {
     "name": "stdout",
     "output_type": "stream",
     "text": [
      "{'preprocessed': <RawEEGLAB  |  sub-18_task-rest_eeg.set, n_channels x n_times : 128 x 12000 (24.0 sec), ~12.1 MB, data loaded>, 'automagic': {'auto_bad_chans': ['E3', 'E5'], 'prep': {'performed': True}, 'filtering': {'performed': True}, 'to_be_interpolated': ['E3', 'E5'], 'final_bad_chans': [], 'montage': 'biosemi128', 'version': 1.0, 'quality_scores': {'overall_high_amp': 0.0, 'times_high_var': 0.0, 'ratio_bad_chans': 0.015625, 'chan_high_var': 0.0, 'mean_abs_volt': 4.808533167421935e-06}, 'quality_thresholds': {'overall_thresh': 50, 'time_thresh': 25, 'chan_thresh': 25, 'apply_common_avg': True}, 'rate': 'interpolate', 'is_manually_rated': False, 'times_commited': 0, 'params': {'interpolation_params': {}}, 'is_interpolated': False, 'is_rated': False}}\n"
     ]
    },
    {
     "data": {
      "text/plain": [
       "<Figure size 720x360 with 0 Axes>"
      ]
     },
     "metadata": {},
     "output_type": "display_data"
    },
    {
     "data": {
      "text/plain": [
       "<Figure size 720x360 with 0 Axes>"
      ]
     },
     "metadata": {},
     "output_type": "display_data"
    }
   ],
   "source": [
    "results = test_block.preprocess()\n",
    "print(results)"
   ]
  },
  {
   "cell_type": "code",
   "execution_count": 5,
   "metadata": {
    "scrolled": true
   },
   "outputs": [
    {
     "name": "stdout",
     "output_type": "stream",
     "text": [
      "Opening raw data file ./tests/test_data/test_project/derivatives/automagic/sub-18/sub-18_task-rest_eeg_raw.fif...\n",
      "    Range : 0 ... 11999 =      0.000 ...    23.998 secs\n",
      "Ready.\n",
      "Reading 0 ... 11999  =      0.000 ...    23.998 secs...\n",
      "Computing interpolation matrix from 126 sensor positions\n",
      "Interpolating 2 sensors\n",
      "0.2\n",
      "\n",
      "Writing './tests/test_data/test_project/derivatives/automagic/sub-18/sub-18_task-rest_eeg_results.json'...\n",
      "\n",
      "{\n",
      "    \"auto_bad_chans\": [\n",
      "        \"E3\",\n",
      "        \"E5\"\n",
      "    ],\n",
      "    \"prep\": {\n",
      "        \"performed\": true\n",
      "    },\n",
      "    \"filtering\": {\n",
      "        \"performed\": true\n",
      "    },\n",
      "    \"to_be_interpolated\": [],\n",
      "    \"final_bad_chans\": [],\n",
      "    \"montage\": \"biosemi128\",\n",
      "    \"version\": 1.0,\n",
      "    \"quality_scores\": {\n",
      "        \"overall_high_amp\": 0.0,\n",
      "        \"times_high_var\": 0.0,\n",
      "        \"ratio_bad_chans\": 0.015625,\n",
      "        \"chan_high_var\": 0.0,\n",
      "        \"mean_abs_volt\": 4.699328886492636e-06\n",
      "    },\n",
      "    \"quality_thresholds\": {\n",
      "        \"overall_thresh\": 50,\n",
      "        \"time_thresh\": 25,\n",
      "        \"chan_thresh\": 25,\n",
      "        \"apply_common_avg\": true\n",
      "    },\n",
      "    \"rate\": \"not rated\",\n",
      "    \"is_manually_rated\": false,\n",
      "    \"times_commited\": 0,\n",
      "    \"params\": {\n",
      "        \"interpolation_params\": {}\n",
      "    },\n",
      "    \"is_interpolated\": true,\n",
      "    \"is_rated\": false,\n",
      "    \"interpolation\": {\n",
      "        \"channels\": [\n",
      "            \"E3\",\n",
      "            \"E5\"\n",
      "        ],\n",
      "        \"params\": {}\n",
      "    }\n",
      "}\n",
      "Overwriting existing file.\n",
      "Writing /Users/clairezurn/pyautomagic/tests/test_data/test_project/derivatives/automagic/sub-18/sub-18_task-rest_eeg_raw.fif\n",
      "Closing /Users/clairezurn/pyautomagic/tests/test_data/test_project/derivatives/automagic/sub-18/sub-18_task-rest_eeg_raw.fif [done]\n"
     ]
    }
   ],
   "source": [
    "interpolated = test_block.interpolate()"
   ]
  },
  {
   "cell_type": "code",
   "execution_count": null,
   "metadata": {},
   "outputs": [],
   "source": []
  }
 ],
 "metadata": {
  "kernelspec": {
   "display_name": "Python 3",
   "language": "python",
   "name": "python3"
  },
  "language_info": {
   "codemirror_mode": {
    "name": "ipython",
    "version": 3
   },
   "file_extension": ".py",
   "mimetype": "text/x-python",
   "name": "python",
   "nbconvert_exporter": "python",
   "pygments_lexer": "ipython3",
   "version": "3.7.3"
  }
 },
 "nbformat": 4,
 "nbformat_minor": 2
}
