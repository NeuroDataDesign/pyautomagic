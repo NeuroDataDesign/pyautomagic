{
 "cells": [
  {
   "cell_type": "markdown",
   "metadata": {},
   "source": [
    "## Using Block class in pyAutomagic\n",
    "This class is the the where operations at the single dataset level occur. The key steps are:\n",
    "* Setting parameters\n",
    "* Initialization\n",
    "* Preprocess\n",
    "* Interpolate\n",
    "\n",
    "Setting up the parameters correctly is key to ensuring the program runs as you would like. Set the logger filename to where the overall project's log should be stored."
   ]
  },
  {
   "cell_type": "code",
   "execution_count": 12,
   "metadata": {},
   "outputs": [],
   "source": [
    "import logging\n",
    "import os\n",
    "import sys\n",
    "pyautomagic_dir = os.path.abspath(os.path.dirname(os.getcwd()))\n",
    "sys.path.append(pyautomagic_dir)\n",
    "from pyautomagic.src import Block, Project, Subject\n",
    "logger = logging.getLogger(__name__)\n",
    "logger.setLevel(level=10)\n",
    "logging.basicConfig(filename='./tests/test_data/test_project/derivatives/automagic/project_log.log', format='%(asctime)s %(levelname)s:%(message)s', datefmt='%m/%d/%Y %I:%M:%S %p')"
   ]
  },
  {
   "cell_type": "markdown",
   "metadata": {},
   "source": [
    "###### Setting parameters and Initialization\n",
    "The overall package is restricted to using the BIDS specification. Set the root path as the BIDS folder. Quality thresholds should be set keeping in mind the units of your data. The default is for microvolts. See documentation on calculating quality metrics for more information on setting thresholds. The same can be said for rating cutoffs. Set the montage string as one that MNE will recognize as the EEG montage you are using. Input the subject identifier as a string. The data filename needs the extension, but not the overall path to it. The path is evident from the BIDS specification. Project, subject, and block objects are then initiated. Even for one dataset, the overarching project and subject objects are necessary."
   ]
  },
  {
   "cell_type": "code",
   "execution_count": 13,
   "metadata": {},
   "outputs": [],
   "source": [
    "root_path = './tests/test_data/test_project'\n",
    "config = {\"version\": 1.0,\n",
    "          \"default_params\" : {'line_freqs' : 0,\\\n",
    "                              'filter_type' : 'high', \\\n",
    "                              'filt_freq' : None, \\\n",
    "                              'filter_length' : 'auto', \\\n",
    "                              'eog_regression' : False, \\\n",
    "                              'lam' : -1, \\\n",
    "                              'tol' : 1e-7, \\\n",
    "                              'max_iter': 1000, \\\n",
    "                              'interpolation_params': {'line_freqs' : 0,\\\n",
    "                                                'ref_chs': None,\\\n",
    "                                                'reref_chs': None,\\\n",
    "                                                'montage': 'GSN-HydroCel-128'}\n",
    "                              }\n",
    "\n",
    "         }\n",
    "params = {'line_freqs' : 0,\\\n",
    "          'filter_type' : 'high', \\\n",
    "          'filt_freq' : None, \\\n",
    "          'filter_length' : 'auto', \\\n",
    "          'eog_regression' : False, \\\n",
    "          'lam' : -1, \\\n",
    "          'tol' : 1e-7, \\\n",
    "          'max_iter': 1000, \\\n",
    "          'interpolation_params': {'line_freqs' : 0,\\\n",
    "                                   'ref_chs': None,\\\n",
    "                                   'reref_chs': None,\\\n",
    "                                   'montage': 'GSN-HydroCel-128'}\n",
    "          }\n",
    "sampling_rate = 500\n",
    "visualization_params = {'downsample_rate' : 5}\n",
    "quality_thresholds = {'overall_thresh': 50, 'time_thresh': 25,\n",
    "                'chan_thresh': 25, 'apply_common_avg': True}\n",
    "rate_cutoffs = {'overall_Good_Cutoff': 0.1, 'overall_Bad_Cutoff': 0.2,\n",
    "                'time_Good_Cutoff': 0.1, 'time_Bad_Cutoff': 0.2,\n",
    "                'bad_Channel_Good_Cutoff': 0.15, 'bad_Channel_Bad_Cutoff': 0.3,\n",
    "                'channel_Good_Cutoff': 0.15, 'channel_Bad_Cutoff': 0.3}\n",
    "montage = 'biosemi128'\n",
    "sub_name = '18'\n",
    "data_filename = 'sub-18_task-rest_eeg.set'"
   ]
  },
  {
   "cell_type": "code",
   "execution_count": 14,
   "metadata": {},
   "outputs": [
    {
     "ename": "TypeError",
     "evalue": "__init__() takes 7 positional arguments but 9 were given",
     "output_type": "error",
     "traceback": [
      "\u001b[0;31m---------------------------------------------------------------------------\u001b[0m",
      "\u001b[0;31mTypeError\u001b[0m                                 Traceback (most recent call last)",
      "\u001b[0;32m<ipython-input-14-10a67fc80962>\u001b[0m in \u001b[0;36m<module>\u001b[0;34m\u001b[0m\n\u001b[1;32m      1\u001b[0m dummy_project = Project.Project(root_path,config,params,sampling_rate,\n\u001b[0;32m----> 2\u001b[0;31m                         visualization_params,quality_thresholds,rate_cutoffs,montage)\n\u001b[0m\u001b[1;32m      3\u001b[0m \u001b[0mdummy_subject\u001b[0m \u001b[0;34m=\u001b[0m \u001b[0mSubject\u001b[0m\u001b[0;34m.\u001b[0m\u001b[0mSubject\u001b[0m\u001b[0;34m(\u001b[0m\u001b[0msub_name\u001b[0m\u001b[0;34m)\u001b[0m\u001b[0;34m\u001b[0m\u001b[0;34m\u001b[0m\u001b[0m\n\u001b[1;32m      4\u001b[0m \u001b[0mtest_block\u001b[0m \u001b[0;34m=\u001b[0m \u001b[0mBlock\u001b[0m\u001b[0;34m.\u001b[0m\u001b[0mBlock\u001b[0m\u001b[0;34m(\u001b[0m\u001b[0mroot_path\u001b[0m\u001b[0;34m,\u001b[0m\u001b[0mdata_filename\u001b[0m\u001b[0;34m,\u001b[0m\u001b[0mdummy_project\u001b[0m\u001b[0;34m,\u001b[0m\u001b[0mdummy_subject\u001b[0m\u001b[0;34m)\u001b[0m\u001b[0;34m\u001b[0m\u001b[0;34m\u001b[0m\u001b[0m\n",
      "\u001b[0;31mTypeError\u001b[0m: __init__() takes 7 positional arguments but 9 were given"
     ]
    }
   ],
   "source": [
    "dummy_project = Project.Project(root_path,config,params,sampling_rate,\n",
    "                        visualization_params,quality_thresholds,rate_cutoffs,montage)\n",
    "dummy_subject = Subject.Subject(sub_name)\n",
    "test_block = Block.Block(root_path,data_filename,dummy_project,dummy_subject)"
   ]
  },
  {
   "cell_type": "markdown",
   "metadata": {},
   "source": [
    "### Preprocess and Interpolate\n",
    "All that is left to do is call the preprocess and interpolation on the Block. After preprocessing, there will be a logger file saved where you designated. Additionally, four files are stored to the folder within derivatives/automagic corresponding to the original data. These files are two figures, the preprocessed data, and a results info json. \n",
    "\n",
    "The interpolate method uses MNE's interpolate_bads function. After interpolation, the same files are available, but the preprocessed data file and results json are updated."
   ]
  },
  {
   "cell_type": "code",
   "execution_count": 15,
   "metadata": {},
   "outputs": [
    {
     "ename": "NameError",
     "evalue": "name 'test_block' is not defined",
     "output_type": "error",
     "traceback": [
      "\u001b[0;31m---------------------------------------------------------------------------\u001b[0m",
      "\u001b[0;31mNameError\u001b[0m                                 Traceback (most recent call last)",
      "\u001b[0;32m<ipython-input-15-c7ce712eb9c0>\u001b[0m in \u001b[0;36m<module>\u001b[0;34m\u001b[0m\n\u001b[0;32m----> 1\u001b[0;31m \u001b[0mresults\u001b[0m \u001b[0;34m=\u001b[0m \u001b[0mtest_block\u001b[0m\u001b[0;34m.\u001b[0m\u001b[0mpreprocess\u001b[0m\u001b[0;34m(\u001b[0m\u001b[0;34m)\u001b[0m\u001b[0;34m\u001b[0m\u001b[0;34m\u001b[0m\u001b[0m\n\u001b[0m\u001b[1;32m      2\u001b[0m \u001b[0mprint\u001b[0m\u001b[0;34m(\u001b[0m\u001b[0mresults\u001b[0m\u001b[0;34m)\u001b[0m\u001b[0;34m\u001b[0m\u001b[0;34m\u001b[0m\u001b[0m\n",
      "\u001b[0;31mNameError\u001b[0m: name 'test_block' is not defined"
     ]
    }
   ],
   "source": [
    "results = test_block.preprocess()\n",
    "print(results)"
   ]
  },
  {
   "cell_type": "code",
   "execution_count": 16,
   "metadata": {
    "scrolled": false
   },
   "outputs": [
    {
     "ename": "NameError",
     "evalue": "name 'test_block' is not defined",
     "output_type": "error",
     "traceback": [
      "\u001b[0;31m---------------------------------------------------------------------------\u001b[0m",
      "\u001b[0;31mNameError\u001b[0m                                 Traceback (most recent call last)",
      "\u001b[0;32m<ipython-input-16-4a33d90c7a5b>\u001b[0m in \u001b[0;36m<module>\u001b[0;34m\u001b[0m\n\u001b[0;32m----> 1\u001b[0;31m \u001b[0minterpolated\u001b[0m \u001b[0;34m=\u001b[0m \u001b[0mtest_block\u001b[0m\u001b[0;34m.\u001b[0m\u001b[0minterpolate\u001b[0m\u001b[0;34m(\u001b[0m\u001b[0;34m)\u001b[0m\u001b[0;34m\u001b[0m\u001b[0;34m\u001b[0m\u001b[0m\n\u001b[0m",
      "\u001b[0;31mNameError\u001b[0m: name 'test_block' is not defined"
     ]
    }
   ],
   "source": [
    "interpolated = test_block.interpolate()"
   ]
  },
  {
   "cell_type": "code",
   "execution_count": null,
   "metadata": {},
   "outputs": [],
   "source": []
  },
  {
   "cell_type": "code",
   "execution_count": null,
   "metadata": {},
   "outputs": [],
   "source": []
  }
 ],
 "metadata": {
  "kernelspec": {
   "display_name": "Python 3",
   "language": "python",
   "name": "python3"
  },
  "language_info": {
   "codemirror_mode": {
    "name": "ipython",
    "version": 3
   },
   "file_extension": ".py",
   "mimetype": "text/x-python",
   "name": "python",
   "nbconvert_exporter": "python",
   "pygments_lexer": "ipython3",
   "version": "3.6.9"
  }
 },
 "nbformat": 4,
 "nbformat_minor": 2
}
