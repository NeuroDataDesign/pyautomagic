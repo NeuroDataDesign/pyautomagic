{
  "nbformat": 4,
  "nbformat_minor": 0,
  "metadata": {
    "colab": {
      "name": "Project_Tutorial.ipynb",
      "provenance": [],
      "collapsed_sections": [],
      "toc_visible": true
    },
    "kernelspec": {
      "name": "python3",
      "display_name": "Python 3"
    }
  },
  "cells": [
    {
      "cell_type": "markdown",
      "metadata": {
        "id": "b7B6AwHJ4f0F",
        "colab_type": "text"
      },
      "source": [
        "# **Using Project class in pyAutomagic**\n",
        "A Project contains the entire relevant information for each project. Main steps to ensure smooth running includes:\n",
        "\n",
        "\n",
        "*   Initialization\n",
        "*   Preprocess\n",
        "*   Interpolate\n",
        "\n"
      ]
    },
    {
      "cell_type": "markdown",
      "metadata": {
        "id": "be_iQIB7zxfk",
        "colab_type": "text"
      },
      "source": [
        "# *Initialization*\n",
        "\n",
        "We have restricted the overall package to be used with BIDS specifications.Set name as the project name of your choice. Set the data folder as the path to your BIDS folder. Correct file extension should be set according to the raw files in your dataset. Set the montage string as one of that MNE will recognize as the EEG montage you are using. According to the dataset, the sampling rate also needs to be set. Also, the preprocessing parameters need to be set as a dictionary as seen in the code below. These parameters are line frequency, filter type, filter frequency, filter length, whether or not to perform EOG regression, lambda , tolerance, maximum iterations, reference channels, eval channels and re-reference channels.\n",
        "\n",
        "\n"
      ]
    },
    {
      "cell_type": "code",
      "metadata": {
        "id": "-26mii1j0UYu",
        "colab_type": "code",
        "colab": {}
      },
      "source": [
        "import os\n",
        "from pyautomagic.src.Project import Project\n",
        "\n",
        "name = \"Tutorial project\"\n",
        "data_folder = os.path.join(\"..\", \"tests\", \"test_data\", \"test_dataset_folder\")\n",
        "file_ext = \".edf\"\n",
        "montage = \"biosemi128\"\n",
        "sample_rate = 256\n",
        "params = {'line_frequencies': 50, 'filter_type': 'high', 'filt_freq': None, 'filter_length': 'auto', 'eog_regression': False, 'lam': -1, 'tol': 1e-7, 'max_iter': 1000, 'ref_chs': None, 'eval_chs': None, 'reref_chs': None}"
      ],
      "execution_count": 0,
      "outputs": []
    },
    {
      "cell_type": "markdown",
      "metadata": {
        "id": "UFiNWlfn96SZ",
        "colab_type": "text"
      },
      "source": [
        "The project class can be initialized with above mentioned parameters."
      ]
    },
    {
      "cell_type": "code",
      "metadata": {
        "id": "DUaJ_GUr4txm",
        "colab_type": "code",
        "colab": {}
      },
      "source": [
        "tutorial_project = Project(name, data_folder, file_ext, montage, sample_rate, params)"
      ],
      "execution_count": 0,
      "outputs": []
    },
    {
      "cell_type": "markdown",
      "metadata": {
        "id": "_EeWMnaP-A2_",
        "colab_type": "text"
      },
      "source": [
        "When the project class is initialized, it looks into the data folder and creates a list of all the raw files. Correct listing of raw files can be checked from log, where both the subject name and file name is being logged.  "
      ]
    },
    {
      "cell_type": "markdown",
      "metadata": {
        "id": "FTMj960eBxHm",
        "colab_type": "text"
      },
      "source": [
        "# *Preprocess*\n",
        "After the data has been loaded correctly, use preprocess_all() method to process the raw files. This method goes through all the blocks in the block_list and processes them all one by one using Block's preprocess function. You can check the progress in log. Additionally it also saves the preprocessed data, 2 figures and reults JSON file for each block in the appropriate result folder.  "
      ]
    },
    {
      "cell_type": "code",
      "metadata": {
        "id": "bj1_pid260mo",
        "colab_type": "code",
        "colab": {}
      },
      "source": [
        "tutorial_project.preprocess_all()"
      ],
      "execution_count": 0,
      "outputs": []
    },
    {
      "cell_type": "markdown",
      "metadata": {
        "id": "69nwv3i_cPQ0",
        "colab_type": "text"
      },
      "source": [
        "# *Interpolate*\n",
        "After all the files have been processed. You can go ahead and interpolate the blocks that are to be interpolated. For interpolation, use the interpolate_selected() method. The progress can be checked in log. After the interpolation is done, the results are stored in same format as in preprocessing."
      ]
    },
    {
      "cell_type": "code",
      "metadata": {
        "id": "URWLUw_z662u",
        "colab_type": "code",
        "colab": {}
      },
      "source": [
        "tutorial_project.interpolate_selected()"
      ],
      "execution_count": 0,
      "outputs": []
    }
  ]
}