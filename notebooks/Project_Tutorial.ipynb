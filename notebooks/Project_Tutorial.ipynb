{
  "nbformat": 4,
  "nbformat_minor": 0,
  "metadata": {
    "colab": {
      "name": "Project_Tutorial.ipynb",
      "provenance": [],
      "collapsed_sections": [],
      "toc_visible": true
    },
    "kernelspec": {
      "name": "python3",
      "display_name": "Python 3"
    }
  },
  "cells": [
    {
      "cell_type": "markdown",
      "metadata": {
        "id": "b7B6AwHJ4f0F",
        "colab_type": "text"
      },
      "source": [
        "# **Using Project class in pyAutomagic**\n",
        "A Project contains the entire relevant information for each project. Main steps to ensure smooth running includes:\n",
        "\n",
        "\n",
        "*   Initialization\n",
        "*   Preprocess\n",
        "*   Interpolate\n",
        "\n"
      ]
    },
    {
      "cell_type": "code",
      "metadata": {
        "id": "X6lwEgvMVg0e",
        "colab_type": "code",
        "colab": {}
      },
      "source": [
        ""
      ],
      "execution_count": 0,
      "outputs": []
    },
    {
      "cell_type": "markdown",
      "metadata": {
        "id": "be_iQIB7zxfk",
        "colab_type": "text"
      },
      "source": [
        "# *Initialization*\n",
        "\n",
        "We have restricted the overall package to be used with BIDS specifications.Set name as the project name of your choice. Set the data folder as the path to your BIDS folder. Correct file extension should be set according to the raw files in your dataset. Set the montage string as one of that MNE will recognize as the EEG montage you are using. According to the dataset, the sampling rate also needs to be set. "
      ]
    },
    {
      "cell_type": "code",
      "metadata": {
        "id": "-26mii1j0UYu",
        "colab_type": "code",
        "outputId": "6fd7a471-ede1-445c-b305-051ba365add4",
        "colab": {
          "base_uri": "https://localhost:8080/",
          "height": 363
        }
      },
      "source": [
        "import os\n",
        "from pyautomagic.src.Project import Project\n",
        "\n",
        "name = \"Tutorial project\"\n",
        "data_folder = os.path.join(\"..\", \"tests\", \"test_data\", \"test_dataset_folder\")\n",
        "file_ext = \".edf\"\n",
        "montage = \"biosemi128\"\n",
        "sample_rate = 256\n",
        "params = {'line_frequencies': 50, 'filter_type': 'high', 'filt_freq': None, 'filter_length': 'auto', 'eog_regression': False, 'lam': -1, 'tol': 1e-7, 'max_iter': 1000, 'ref_chs': None, 'eval_chs': None, 'reref_chs': None}"
      ],
      "execution_count": 0,
      "outputs": [
        {
          "output_type": "error",
          "ename": "ModuleNotFoundError",
          "evalue": "ignored",
          "traceback": [
            "\u001b[0;31m---------------------------------------------------------------------------\u001b[0m",
            "\u001b[0;31mModuleNotFoundError\u001b[0m                       Traceback (most recent call last)",
            "\u001b[0;32m<ipython-input-1-1ebbbd58d327>\u001b[0m in \u001b[0;36m<module>\u001b[0;34m()\u001b[0m\n\u001b[1;32m      1\u001b[0m \u001b[0;32mimport\u001b[0m \u001b[0mos\u001b[0m\u001b[0;34m\u001b[0m\u001b[0;34m\u001b[0m\u001b[0m\n\u001b[0;32m----> 2\u001b[0;31m \u001b[0;32mfrom\u001b[0m \u001b[0mpyautomagic\u001b[0m\u001b[0;34m.\u001b[0m\u001b[0msrc\u001b[0m\u001b[0;34m.\u001b[0m\u001b[0mProject\u001b[0m \u001b[0;32mimport\u001b[0m \u001b[0mProject\u001b[0m\u001b[0;34m\u001b[0m\u001b[0;34m\u001b[0m\u001b[0m\n\u001b[0m\u001b[1;32m      3\u001b[0m \u001b[0;34m\u001b[0m\u001b[0m\n\u001b[1;32m      4\u001b[0m \u001b[0mname\u001b[0m \u001b[0;34m=\u001b[0m \u001b[0;34m\"Tutorial project\"\u001b[0m\u001b[0;34m\u001b[0m\u001b[0;34m\u001b[0m\u001b[0m\n\u001b[1;32m      5\u001b[0m \u001b[0mdata_folder\u001b[0m \u001b[0;34m=\u001b[0m \u001b[0mos\u001b[0m\u001b[0;34m.\u001b[0m\u001b[0mpath\u001b[0m\u001b[0;34m.\u001b[0m\u001b[0mjoin\u001b[0m\u001b[0;34m(\u001b[0m\u001b[0;34m\"..\"\u001b[0m\u001b[0;34m,\u001b[0m \u001b[0;34m\"tests\"\u001b[0m\u001b[0;34m,\u001b[0m \u001b[0;34m\"test_data\"\u001b[0m\u001b[0;34m,\u001b[0m \u001b[0;34m\"test_dataset_folder\"\u001b[0m\u001b[0;34m)\u001b[0m\u001b[0;34m\u001b[0m\u001b[0;34m\u001b[0m\u001b[0m\n",
            "\u001b[0;31mModuleNotFoundError\u001b[0m: No module named 'pyautomagic'",
            "",
            "\u001b[0;31m---------------------------------------------------------------------------\u001b[0;32m\nNOTE: If your import is failing due to a missing package, you can\nmanually install dependencies using either !pip or !apt.\n\nTo view examples of installing some common dependencies, click the\n\"Open Examples\" button below.\n\u001b[0;31m---------------------------------------------------------------------------\u001b[0m\n"
          ]
        }
      ]
    },
    {
      "cell_type": "markdown",
      "metadata": {
        "id": "UFiNWlfn96SZ",
        "colab_type": "text"
      },
      "source": [
        "The project class can be initialized with above mentioned parameters."
      ]
    },
    {
      "cell_type": "code",
      "metadata": {
        "id": "DUaJ_GUr4txm",
        "colab_type": "code",
        "colab": {}
      },
      "source": [
        "tutorial_project = Project(name, data_folder, file_ext, montage, sample_rate, params)\n",
        "print(tutorial_project.block_list)"
      ],
      "execution_count": 0,
      "outputs": []
    },
    {
      "cell_type": "markdown",
      "metadata": {
        "id": "_EeWMnaP-A2_",
        "colab_type": "text"
      },
      "source": [
        "When the project class is initialized, it looks into the data folder and creates a list of all the raw files. Correct listing of raw files can be checked from log, where both the subject name and file name is being logged.  "
      ]
    },
    {
      "cell_type": "markdown",
      "metadata": {
        "id": "FTMj960eBxHm",
        "colab_type": "text"
      },
      "source": [
        "# *Preprocess*\n",
        "After the data has been loaded correctly, use preprocess_all() method to process the raw files. This method goes through all the blocks in the block_list and processes them all one by one. You can check the progress in log. Additionally it also saves the preprocessed data, 2 figures and reults JSON file for each block in the appropriate result folder.  "
      ]
    },
    {
      "cell_type": "code",
      "metadata": {
        "id": "bj1_pid260mo",
        "colab_type": "code",
        "outputId": "7092d6b1-d136-45c7-cfec-956209bc3fcb",
        "colab": {
          "base_uri": "https://localhost:8080/",
          "height": 162
        }
      },
      "source": [
        "tutorial_project.preprocess_all()"
      ],
      "execution_count": 0,
      "outputs": [
        {
          "output_type": "error",
          "ename": "NameError",
          "evalue": "ignored",
          "traceback": [
            "\u001b[0;31m---------------------------------------------------------------------------\u001b[0m",
            "\u001b[0;31mNameError\u001b[0m                                 Traceback (most recent call last)",
            "\u001b[0;32m<ipython-input-2-f39099ff9435>\u001b[0m in \u001b[0;36m<module>\u001b[0;34m()\u001b[0m\n\u001b[0;32m----> 1\u001b[0;31m \u001b[0mtutorial_project\u001b[0m\u001b[0;34m.\u001b[0m\u001b[0mpreprocess_all\u001b[0m\u001b[0;34m(\u001b[0m\u001b[0;34m)\u001b[0m\u001b[0;34m\u001b[0m\u001b[0;34m\u001b[0m\u001b[0m\n\u001b[0m",
            "\u001b[0;31mNameError\u001b[0m: name 'tutorial_project' is not defined"
          ]
        }
      ]
    },
    {
      "cell_type": "code",
      "metadata": {
        "id": "URWLUw_z662u",
        "colab_type": "code",
        "colab": {}
      },
      "source": [
        "tutorial_project.interpolated_selected()"
      ],
      "execution_count": 0,
      "outputs": []
    }
  ]
}